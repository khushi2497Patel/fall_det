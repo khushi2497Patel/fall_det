{
 "cells": [
  {
   "cell_type": "code",
   "execution_count": 1,
   "metadata": {},
   "outputs": [
    {
     "name": "stdout",
     "output_type": "stream",
     "text": [
      "hello\n"
     ]
    }
   ],
   "source": [
    "class name:\n",
    "    def __init__(self):\n",
    "        print(\"hello\")\n",
    "        \n",
    "    \n",
    "a=name()"
   ]
  },
  {
   "cell_type": "code",
   "execution_count": 11,
   "metadata": {},
   "outputs": [],
   "source": [
    "class student:\n",
    "    \n",
    "    name = 'khushbu'\n",
    "    \n",
    "    def __init__(self, roll, year):\n",
    "        print(\"object created!\")\n",
    "        self.roll = roll\n",
    "        self.year = year\n",
    "        \n",
    "    def info(self):\n",
    "        print(self.name)\n",
    "        print(self.roll)\n",
    "        print(self.year)\n",
    "        "
   ]
  },
  {
   "cell_type": "code",
   "execution_count": 12,
   "metadata": {},
   "outputs": [
    {
     "name": "stdout",
     "output_type": "stream",
     "text": [
      "object created!\n",
      "khushbu\n",
      "48\n",
      "4\n"
     ]
    }
   ],
   "source": [
    "a=student(48, 4)\n",
    "a.info()\n"
   ]
  },
  {
   "cell_type": "code",
   "execution_count": null,
   "metadata": {},
   "outputs": [],
   "source": [
    "class parent:\n",
    "    def __init__(self):\n",
    "        self.a = 1\n",
    "        self.b = 2\n",
    "        \n",
    "    def name()"
   ]
  }
 ],
 "metadata": {
  "kernelspec": {
   "display_name": "Python 3",
   "language": "python",
   "name": "python3"
  },
  "language_info": {
   "codemirror_mode": {
    "name": "ipython",
    "version": 3
   },
   "file_extension": ".py",
   "mimetype": "text/x-python",
   "name": "python",
   "nbconvert_exporter": "python",
   "pygments_lexer": "ipython3",
   "version": "3.7.0"
  }
 },
 "nbformat": 4,
 "nbformat_minor": 2
}
